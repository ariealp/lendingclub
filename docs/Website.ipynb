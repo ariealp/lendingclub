{
 "cells": [
  {
   "cell_type": "code",
   "execution_count": 1,
   "metadata": {
    "collapsed": true
   },
   "outputs": [],
   "source": [
    "import numpy as np\n",
    "import pandas as pd\n",
    "import scipy as sp\n",
    "from sklearn import preprocessing\n",
    "from sklearn.cross_validation import KFold\n",
    "from sklearn.linear_model import LogisticRegression\n",
    "from sklearn.discriminant_analysis import LinearDiscriminantAnalysis as LDA\n",
    "from sklearn.discriminant_analysis import QuadraticDiscriminantAnalysis as QDA\n",
    "from sklearn.neighbors import KNeighborsClassifier as KNN_class\n",
    "from sklearn.tree import DecisionTreeClassifier as DecisionTree\n",
    "from sklearn.ensemble import RandomForestClassifier as RandomForest\n",
    "from sklearn.preprocessing import StandardScaler as Standardize\n",
    "from sklearn.linear_model import Lasso as Lasso_Reg\n",
    "from sklearn.svm import SVC\n",
    "from sklearn.cross_validation import train_test_split\n",
    "import matplotlib\n",
    "from mpl_toolkits.mplot3d import Axes3D\n",
    "import matplotlib.pyplot as plt\n",
    "from sklearn import metrics\n",
    "from sklearn.neighbors import KNeighborsRegressor as KNN_reg\n",
    "from sklearn.grid_search import GridSearchCV\n",
    "from sklearn.decomposition import PCA\n",
    "import time\n",
    "from sklearn.metrics import roc_curve, auc\n",
    "from datetime import datetime\n",
    "%matplotlib inline"
   ]
  },
  {
   "cell_type": "code",
   "execution_count": 3,
   "metadata": {
    "collapsed": false
   },
   "outputs": [
    {
     "name": "stderr",
     "output_type": "stream",
     "text": [
      "/Users/ChristyL/anaconda2/lib/python2.7/site-packages/IPython/core/interactiveshell.py:2723: DtypeWarning: Columns (19,55) have mixed types. Specify dtype option on import or set low_memory=False.\n",
      "  interactivity=interactivity, compiler=compiler, result=result)\n"
     ]
    },
    {
     "name": "stdout",
     "output_type": "stream",
     "text": [
      "(887379, 74)\n"
     ]
    }
   ],
   "source": [
    "#Read in data\n",
    "df=pd.read_csv('loan_data.csv')\n",
    "df.head()\n",
    "print df.shape"
   ]
  },
  {
   "cell_type": "markdown",
   "metadata": {},
   "source": [
    "Before we ran any model-building, we wanted to remove a test set that we would store away for the final model accuracy testing. To mimic the circumstances under which Lending Club would be using the model, we decided to remove the 30% most recent loans."
   ]
  },
  {
   "cell_type": "code",
   "execution_count": 4,
   "metadata": {
    "collapsed": false
   },
   "outputs": [],
   "source": [
    "#Creating testing set by 30% of most recent loans\n",
    "df['loan_date'] =pd.to_datetime(df.issue_d, format='%b-%y')\n",
    "#df.head()\n"
   ]
  },
  {
   "cell_type": "code",
   "execution_count": 5,
   "metadata": {
    "collapsed": false
   },
   "outputs": [
    {
     "name": "stderr",
     "output_type": "stream",
     "text": [
      "/Users/ChristyL/anaconda2/lib/python2.7/site-packages/ipykernel/__main__.py:1: FutureWarning: sort(columns=....) is deprecated, use sort_values(by=.....)\n",
      "  if __name__ == '__main__':\n"
     ]
    }
   ],
   "source": [
    "df=df.sort(columns='loan_date', ascending=False)\n",
    "n=int(df.shape[0]*.3)\n",
    "df_test=df.iloc[:n]\n",
    "df_train=df.iloc[n:]\n",
    "\n",
    "#df_test.to_csv(\"loan_test.csv\",index=False)\n"
   ]
  },
  {
   "cell_type": "code",
   "execution_count": 6,
   "metadata": {
    "collapsed": false
   },
   "outputs": [
    {
     "name": "stdout",
     "output_type": "stream",
     "text": [
      "(621166, 75)\n",
      "(266213, 75)\n"
     ]
    }
   ],
   "source": [
    "print df_train.shape\n",
    "print df_test.shape"
   ]
  },
  {
   "cell_type": "code",
   "execution_count": 68,
   "metadata": {
    "collapsed": false
   },
   "outputs": [
    {
     "data": {
      "text/plain": [
       "(621, 75)"
      ]
     },
     "execution_count": 68,
     "metadata": {},
     "output_type": "execute_result"
    }
   ],
   "source": [
    "df_sample=df_train.sample(frac=.001)\n",
    "df_sample.shape"
   ]
  },
  {
   "cell_type": "markdown",
   "metadata": {},
   "source": [
    "We first examine the distribution of our outcome variable, loan status."
   ]
  },
  {
   "cell_type": "code",
   "execution_count": 15,
   "metadata": {
    "collapsed": false
   },
   "outputs": [
    {
     "data": {
      "image/png": "[encoded data removed]",
      "text/plain": [
       "<matplotlib.figure.Figure at 0x1177bf350>"
      ]
     },
     "metadata": {},
     "output_type": "display_data"
    }
   ],
   "source": [
    "#Plotdistribution of loan status\n",
    "fig, ax = plt.subplots(1, 1, figsize=(6, 6))\n",
    "ax=df['loan_status'].value_counts().plot(kind='bar')\n",
    "ax.set_title(\"Loan Status across Lending Club members\")\n",
    "plt.show()"
   ]
  },
  {
   "cell_type": "markdown",
   "metadata": {},
   "source": [
    "As observed above, there is a small fraction of defaulters, late, and charged off as compared to fully paid. Consequently, we decided to recode all observations that did not fully pay back their loans as defaulters and turn our problem into a binary classification. We also dropped all Current loans as their final loan status has not been determined yet.\n",
    "\n",
    "Included in the dataset is the variable 'grade,'  which is an indicator Lending Club assigns each borrower to signal their level of risk to potential lenders. Lending Club does not release the algorithm they use to determine these grades, but our assumption is that it includes a majority of the variables in the dataset (else why would they collect them given the costs involved). Given that the grade variable encapsulates the other proxies for borrower risk that Lending Club makes use of, we were interested to see how well grade along predicts borrower default as our goal is to provide Lending Club with a new algorithm for a borrower risk grade that uses less discriminatory information and less information overall. <br/> <br/>\n",
    "We begin first by seeing how well grade predicts borrower default on a random subset of test data."
   ]
  },
  {
   "cell_type": "code",
   "execution_count": 9,
   "metadata": {
    "collapsed": false
   },
   "outputs": [
    {
     "data": {
      "text/html": [
       "<div>\n",
       "<table border=\"1\" class=\"dataframe\">\n",
       "  <thead>\n",
       "    <tr style=\"text-align: right;\">\n",
       "      <th></th>\n",
       "      <th>grade</th>\n",
       "      <th>loan_status</th>\n",
       "    </tr>\n",
       "  </thead>\n",
       "  <tbody>\n",
       "    <tr>\n",
       "      <th>715706</th>\n",
       "      <td>F</td>\n",
       "      <td>Fully Paid</td>\n",
       "    </tr>\n",
       "    <tr>\n",
       "      <th>715704</th>\n",
       "      <td>C</td>\n",
       "      <td>Fully Paid</td>\n",
       "    </tr>\n",
       "    <tr>\n",
       "      <th>715731</th>\n",
       "      <td>C</td>\n",
       "      <td>Default</td>\n",
       "    </tr>\n",
       "    <tr>\n",
       "      <th>715641</th>\n",
       "      <td>B</td>\n",
       "      <td>Default</td>\n",
       "    </tr>\n",
       "    <tr>\n",
       "      <th>721476</th>\n",
       "      <td>B</td>\n",
       "      <td>Fully Paid</td>\n",
       "    </tr>\n",
       "  </tbody>\n",
       "</table>\n",
       "</div>"
      ],
      "text/plain": [
       "       grade loan_status\n",
       "715706     F  Fully Paid\n",
       "715704     C  Fully Paid\n",
       "715731     C     Default\n",
       "715641     B     Default\n",
       "721476     B  Fully Paid"
      ]
     },
     "execution_count": 9,
     "metadata": {},
     "output_type": "execute_result"
    }
   ],
   "source": [
    "#Create dataframe including only grade and loan status\n",
    "df_grade=df_train[['grade','loan_status']]\n",
    "df_grade = df_grade.drop(df_grade[df_grade.loan_status == \"Current\"].index)\n",
    "df_grade.loc[df_grade['loan_status']!='Fully Paid', 'loan_status']='Default'\n",
    "df_grade.head()"
   ]
  },
  {
   "cell_type": "code",
   "execution_count": 14,
   "metadata": {
    "collapsed": false
   },
   "outputs": [
    {
     "data": {
      "text/plain": [
       "<matplotlib.text.Text at 0x12f7bf990>"
      ]
     },
     "execution_count": 14,
     "metadata": {},
     "output_type": "execute_result"
    },
    {
     "data": {
      "image/png": "[encoded data removed]",
      "text/plain": [
       "<matplotlib.figure.Figure at 0x1179f7290>"
      ]
     },
     "metadata": {},
     "output_type": "display_data"
    }
   ],
   "source": [
    "#Looking at distribution of loan status across LC's grade\n",
    "var = df_grade.groupby(['grade','loan_status']).size()\n",
    "pct= var / var.groupby(level=0).sum()\n",
    "ax = pct.unstack().plot(kind='bar', figsize=(8,8),title=\"Loan Status by LC grade\", color=['black','green'], grid=False)\n",
    "ax.set_ylabel(\"Percentage\")"
   ]
  },
  {
   "cell_type": "code",
   "execution_count": 10,
   "metadata": {
    "collapsed": false
   },
   "outputs": [
    {
     "name": "stdout",
     "output_type": "stream",
     "text": [
      "(185549, 7)\n",
      "(185549,)\n",
      "(79521, 7)\n",
      "(79521,)\n"
     ]
    }
   ],
   "source": [
    "#Processing data\n",
    "\n",
    "#Encode categorical variables\n",
    "def encode_categorical(array):\n",
    "    if not array.dtype == np.dtype('float64'):\n",
    "        return preprocessing.LabelEncoder().fit_transform(array) \n",
    "    else:\n",
    "        return array\n",
    "    \n",
    "# Categorical columns for use in one-hot encoder\n",
    "categorical = (df_grade.dtypes.values != np.dtype('float64'))\n",
    "\n",
    "# Encode all labels\n",
    "df_grade = df_grade.apply(encode_categorical)\n",
    "\n",
    "# Categorical columns for use in one-hot encoder\n",
    "categorical = (df_grade.dtypes.values != np.dtype('float64'))\n",
    "\n",
    "# Get numpy array from data\n",
    "x_grade = df_grade.values[:, :-1]\n",
    "y_grade = df_grade.values[:, -1]\n",
    "\n",
    "\n",
    "# Apply one hot endcoing\n",
    "encoder = preprocessing.OneHotEncoder(categorical_features=categorical[:-1], sparse=False)  # Last value in mask is y\n",
    "x_grade = encoder.fit_transform(x_grade)\n",
    "x_grade.shape\n",
    "\n",
    "#Splitting data into train & test\n",
    "x_train_g, x_test_g, y_train_g, y_test_g = train_test_split(x_grade, y_grade, test_size=0.3, random_state=42)\n",
    "\n",
    "print x_train_g.shape\n",
    "print y_train_g.shape\n",
    "print x_test_g.shape\n",
    "print y_test_g.shape"
   ]
  },
  {
   "cell_type": "code",
   "execution_count": 12,
   "metadata": {
    "collapsed": false
   },
   "outputs": [
    {
     "name": "stdout",
     "output_type": "stream",
     "text": [
      "time to fit KNN: 92.3778989315\n",
      "time to fit Unweighted Logit: 0.749459028244\n",
      "time to fit Unweighted Quadratic Logit: 0.724826812744\n",
      "time to fit Weighted Logit: 0.344781160355\n",
      "time to fit Weighted Quadratic Logit: 0.719707965851\n"
     ]
    },
    {
     "name": "stderr",
     "output_type": "stream",
     "text": [
      "/Users/ChristyL/anaconda2/lib/python2.7/site-packages/sklearn/discriminant_analysis.py:387: UserWarning: Variables are collinear.\n",
      "  warnings.warn(\"Variables are collinear.\")\n",
      "/Users/ChristyL/anaconda2/lib/python2.7/site-packages/sklearn/discriminant_analysis.py:688: UserWarning: Variables are collinear\n",
      "  warnings.warn(\"Variables are collinear\")\n"
     ]
    },
    {
     "name": "stdout",
     "output_type": "stream",
     "text": [
      "time to fit LDA: 1.23020982742\n",
      "time to fit QDA: 0.138725996017\n",
      "time to fit Decision Tree: 0.276183128357\n",
      "time to fit Random Forest: 0.726907014847\n"
     ]
    },
    {
     "data": {
      "text/html": [
       "<div>\n",
       "<table border=\"1\" class=\"dataframe\">\n",
       "  <thead>\n",
       "    <tr style=\"text-align: right;\">\n",
       "      <th></th>\n",
       "      <th>knn</th>\n",
       "      <th>lda</th>\n",
       "      <th>qda</th>\n",
       "      <th>rf</th>\n",
       "      <th>tree</th>\n",
       "      <th>unweighted logistic</th>\n",
       "      <th>unweighted quad logistic</th>\n",
       "      <th>weighted logistic</th>\n",
       "      <th>weighted quad logistic</th>\n",
       "    </tr>\n",
       "  </thead>\n",
       "  <tbody>\n",
       "    <tr>\n",
       "      <th>overall accuracy</th>\n",
       "      <td>0.754442</td>\n",
       "      <td>0.754442</td>\n",
       "      <td>0.744935</td>\n",
       "      <td>0.755561</td>\n",
       "      <td>0.75443</td>\n",
       "      <td>0.755561</td>\n",
       "      <td>0.755561</td>\n",
       "      <td>0.573899</td>\n",
       "      <td>0.573899</td>\n",
       "    </tr>\n",
       "    <tr>\n",
       "      <th>accuracy on class 0</th>\n",
       "      <td>0.082804</td>\n",
       "      <td>0.082804</td>\n",
       "      <td>0.230490</td>\n",
       "      <td>0.019562</td>\n",
       "      <td>0.00000</td>\n",
       "      <td>0.019562</td>\n",
       "      <td>0.019562</td>\n",
       "      <td>0.742780</td>\n",
       "      <td>0.742780</td>\n",
       "    </tr>\n",
       "    <tr>\n",
       "      <th>accuracy on class 1</th>\n",
       "      <td>0.973064</td>\n",
       "      <td>0.973064</td>\n",
       "      <td>0.912390</td>\n",
       "      <td>0.995133</td>\n",
       "      <td>1.00000</td>\n",
       "      <td>0.995133</td>\n",
       "      <td>0.995133</td>\n",
       "      <td>0.518927</td>\n",
       "      <td>0.518927</td>\n",
       "    </tr>\n",
       "  </tbody>\n",
       "</table>\n",
       "</div>"
      ],
      "text/plain": [
       "                          knn       lda       qda        rf     tree  \\\n",
       "overall accuracy     0.754442  0.754442  0.744935  0.755561  0.75443   \n",
       "accuracy on class 0  0.082804  0.082804  0.230490  0.019562  0.00000   \n",
       "accuracy on class 1  0.973064  0.973064  0.912390  0.995133  1.00000   \n",
       "\n",
       "                     unweighted logistic  unweighted quad logistic  \\\n",
       "overall accuracy                0.755561                  0.755561   \n",
       "accuracy on class 0             0.019562                  0.019562   \n",
       "accuracy on class 1             0.995133                  0.995133   \n",
       "\n",
       "                     weighted logistic  weighted quad logistic  \n",
       "overall accuracy              0.573899                0.573899  \n",
       "accuracy on class 0           0.742780                0.742780  \n",
       "accuracy on class 1           0.518927                0.518927  "
      ]
     },
     "execution_count": 12,
     "metadata": {},
     "output_type": "execute_result"
    }
   ],
   "source": [
    "#Predicting outcome with grade\n",
    "score = lambda model, x_test_g, y_test_g: pd.Series([model.score(x_test_g, y_test_g), \n",
    "                                                 model.score(x_test_g[y_test_g==0], y_test_g[y_test_g==0]),\n",
    "                                                 model.score(x_test_g[y_test_g==1], y_test_g[y_test_g==1])], \n",
    "                                                index=['overall accuracy', 'accuracy on class 0', 'accuracy on class 1'])\n",
    "\n",
    "\n",
    "#KNN\n",
    "knn = KNN_class(n_neighbors=5)\n",
    "start = time.time()\n",
    "knn.fit(x_train_g, y_train_g)\n",
    "knn_time = time.time() - start\n",
    "knn_scores = score(knn, x_test_g, y_test_g)\n",
    "print \"time to fit KNN: \" +str(knn_time)\n",
    "\n",
    "#Unweighted logistic regression\n",
    "unweighted_logistic = LogisticRegression()\n",
    "start = time.time()\n",
    "unweighted_logistic.fit(x_train_g, y_train_g)\n",
    "logit_time = time.time() - start\n",
    "unweighted_log_scores = score(unweighted_logistic, x_test_g, y_test_g)\n",
    "print \"time to fit Unweighted Logit: \" +str(logit_time)\n",
    "\n",
    "#Unweighted logistic quadratic regression\n",
    "unweighted_logistic_poly = LogisticRegression()\n",
    "\n",
    "#Expand our predictor array with quadratic terms\n",
    "start = time.time()\n",
    "quad_features = preprocessing.PolynomialFeatures(degree = 2)\n",
    "x_expanded_train_g = quad_features.fit_transform(x_train_g)\n",
    "x_expanded_test_g = quad_features.fit_transform(x_test_g)\n",
    "\n",
    "unweighted_logistic_poly.fit(x_expanded_train_g, y_train_g)\n",
    "qlogit_time = time.time() - start\n",
    "unweighted_log_poly_scores = score(unweighted_logistic_poly, x_expanded_test_g, y_test_g)\n",
    "print \"time to fit Unweighted Quadratic Logit: \" +str(qlogit_time)\n",
    "\n",
    "\n",
    "\n",
    "#Weighted logistic regression\n",
    "weighted_logistic = LogisticRegression(class_weight='balanced')\n",
    "start = time.time()\n",
    "weighted_logistic.fit(x_train_g, y_train_g)\n",
    "wlogit_time = time.time() - start\n",
    "weighted_log_scores = score(weighted_logistic, x_test_g, y_test_g)\n",
    "print \"time to fit Weighted Logit: \" +str(wlogit_time)\n",
    "\n",
    "\n",
    "#Weighted quad logistic regression\n",
    "weighted_logistic_poly = LogisticRegression(class_weight='balanced')\n",
    "start = time.time()\n",
    "#Expand our predictor array with quadratic terms\n",
    "quad_features = preprocessing.PolynomialFeatures(degree = 2)\n",
    "x_expanded_train_g = quad_features.fit_transform(x_train_g)\n",
    "x_expanded_test_g = quad_features.fit_transform(x_test_g)\n",
    "\n",
    "weighted_logistic_poly.fit(x_expanded_train_g, y_train_g)\n",
    "qwlogit_time = time.time() - start\n",
    "print \"time to fit Weighted Quadratic Logit: \" +str(qwlogit_time)\n",
    "weighted_log_poly_scores = score(weighted_logistic_poly, x_expanded_test_g, y_test_g)\n",
    "\n",
    "\n",
    "#LDA\n",
    "lda = LDA()\n",
    "start = time.time()\n",
    "lda.fit(x_train_g, y_train_g)\n",
    "lda_time = time.time() - start\n",
    "lda_scores = score(lda, x_test_g, y_test_g)\n",
    "print \"time to fit LDA: \" +str(lda_time)\n",
    "\n",
    "\n",
    "\n",
    "#QDA\n",
    "qda = QDA()\n",
    "start = time.time()\n",
    "qda.fit(x_train_g, y_train_g)\n",
    "qda_time = time.time() - start\n",
    "qda_scores = score(qda, x_test_g, y_test_g)\n",
    "print \"time to fit QDA: \" +str(qda_time)\n",
    "\n",
    "\n",
    "\n",
    "#Decision Tree\n",
    "tree = DecisionTree(max_depth=3)\n",
    "start = time.time()\n",
    "tree.fit(x_train_g, y_train_g)\n",
    "dt_time = time.time() - start\n",
    "print \"time to fit Decision Tree: \" +str(dt_time)\n",
    "tree_scores = score(tree, x_test_g, y_test_g)\n",
    "\n",
    "\n",
    "\n",
    "#Random Forest\n",
    "rf = RandomForest()\n",
    "start = time.time()\n",
    "rf.fit(x_train_g, y_train_g)\n",
    "rf_time = time.time() - start\n",
    "print \"time to fit Random Forest: \" +str(rf_time)\n",
    "rf_scores = score(rf, x_test_g, y_test_g)\n",
    "\n",
    "\n",
    "\n",
    "#Score Dataframe\n",
    "score_df = pd.DataFrame({'knn': knn_scores, \n",
    "                         'unweighted logistic': unweighted_log_scores,\n",
    "                         'unweighted quad logistic': unweighted_log_poly_scores,\n",
    "                         'weighted logistic': weighted_log_scores,\n",
    "                         'weighted quad logistic': weighted_log_poly_scores,\n",
    "                         'lda': lda_scores,\n",
    "                         'qda': qda_scores,\n",
    "                         'tree': tree_scores,\n",
    "                         'rf': rf_scores})\n",
    "score_df"
   ]
  },
  {
   "cell_type": "markdown",
   "metadata": {},
   "source": [
    "Since we know that loan status prediction models tend to perform poorly on out of sample predictions in the future, we assess how well loan grade performs on our test set of the most recent loans."
   ]
  },
  {
   "cell_type": "code",
   "execution_count": 13,
   "metadata": {
    "collapsed": false
   },
   "outputs": [
    {
     "name": "stdout",
     "output_type": "stream",
     "text": [
      "total accuracy: 0.520896249391\n",
      "accuracy on defaulters: 0.618480233567\n",
      "accuracy on fully paid: 0.363497518137\n"
     ]
    }
   ],
   "source": [
    "#Assessing loan grade performance on recent loans using best model, weighted logistic\n",
    "\n",
    "#Read in test data\n",
    "loan_test=pd.read_csv('loan_test.csv')\n",
    "\n",
    "df_grade_test=loan_test[['grade','loan_status']]\n",
    "df_grade_test = df_grade_test.drop(df_grade_test[df_grade_test.loan_status == \"Current\"].index)\n",
    "df_grade_test.loc[df_grade_test['loan_status']!='Fully Paid', 'loan_status']='Default'\n",
    "\n",
    "# Categorical columns for use in one-hot encoder\n",
    "categorical = (df_grade_test.dtypes.values != np.dtype('float64'))\n",
    "\n",
    "# Encode all labels\n",
    "df_grade_test = df_grade_test.apply(encode_categorical)\n",
    "\n",
    "# Categorical columns for use in one-hot encoder\n",
    "categorical = (df_grade_test.dtypes.values != np.dtype('float64'))\n",
    "\n",
    "# Get numpy array from data\n",
    "x = df_grade_test.values[:, :-1]\n",
    "y = df_grade_test.values[:, -1]\n",
    "\n",
    "\n",
    "# Apply one hot endcoing\n",
    "encoder = preprocessing.OneHotEncoder(categorical_features=categorical[:-1], sparse=False)  # Last value in mask is y\n",
    "x = encoder.fit_transform(x)\n",
    "\n",
    "\n",
    "print 'total accuracy:', weighted_logistic.score(x,y)\n",
    "print 'accuracy on defaulters:', weighted_logistic.score(x[y==0], y[y==0])\n",
    "print 'accuracy on fully paid:', weighted_logistic.score(x[y==1], y[y==1])"
   ]
  },
  {
   "cell_type": "markdown",
   "metadata": {},
   "source": [
    "Next, we created a function to manage the cleaning of the data. This is to ensure that all steps taken on the training data would be identical for the test data. The cleaning steps are commented out below but include encoding string variables, dropping variables that have more than 70% of their values missing, removing variables that Lending Club creates after they grade the individual, impute missing values using KNN, and creating new variables such as log of income, credit age, and revolving balance to income ratio. We also drop all Current loans and recode all people that defaulted, were late, charged off, etc. as default.\n",
    "\n",
    "We then one-hot encode categorical variables and then randomly split into training and test datasets."
   ]
  },
  {
   "cell_type": "code",
   "execution_count": 28,
   "metadata": {
    "collapsed": true
   },
   "outputs": [],
   "source": [
    "def clean_data(df):\n",
    "    \n",
    "    \n",
    "\n",
    "    ###### Setting up internal functions\n",
    "    def encode_categorical(array):\n",
    "        if not array.dtype == np.dtype('float64'):\n",
    "            return preprocessing.LabelEncoder().fit_transform(array) \n",
    "        else:\n",
    "            return array\n",
    "    \n",
    "    \n",
    "    def diff_month(d1, d2):\n",
    "        return (d1.year - d2.year)*12 + d1.month - d2.month\n",
    "\n",
    "\n",
    "    #Drop all current loans\n",
    "    df = df.drop(df[df.loan_status == \"Current\"].index)\n",
    "    n=df.shape[0]\n",
    "    \n",
    "    \n",
    "    #Recode all late/charged off/etc. to default\n",
    "    df.loc[df['loan_status']!='Fully Paid', 'loan_status']='Default'\n",
    "\n",
    "    \n",
    "    #Dropping columns that have more than 70% missing data\n",
    "    miss=int(n*.5)\n",
    "    \n",
    "    df=df.dropna(axis=1,thresh=miss)\n",
    "    \n",
    "    #Recoding employee string values to integer\n",
    "    df['emp_length_num'] = pd.Categorical.from_array(df.emp_length).codes\n",
    "    df.loc[df['emp_length_num']==10, 'emp_length_num']=.5\n",
    "    df.loc[df['emp_length_num']==1, 'emp_length_num']=10\n",
    "    df.loc[df['emp_length_num']==0, 'emp_length_num']=1\n",
    "    df.loc[df['emp_length_num']==.5, 'emp_length_num']=0\n",
    "    df.loc[df['emp_length_num']==11, 'emp_length_num']=np.nan\n",
    "    \n",
    "    \n",
    "    #Create credit age variable\n",
    "    today=datetime.today()\n",
    "    df['earliest_cr_line'] =pd.to_datetime(df.earliest_cr_line, format='%b-%y')\n",
    "    df['credit_age'] = df.apply(lambda x: diff_month(today, x['earliest_cr_line']), axis=1)\n",
    "    \n",
    "    #Dropping variables not needed#\n",
    "    #Dropping variables not being used in prediction --> string or discriminatory\n",
    "    df.drop(['id','member_id','grade','sub_grade','addr_state','zip_code','emp_title','url','title','initial_list_status','emp_length','policy_code'], axis=1, inplace=True)\n",
    "\n",
    "    #Dropping variables not being used in prediction --> dates (will use at a later stage)\n",
    "    df.drop(['last_pymnt_d','last_credit_pull_d','issue_d','earliest_cr_line','loan_date'], axis=1, inplace=True)\n",
    "    \n",
    "    #Drop variables that LC uses post loan status prediction\n",
    "    df.drop(['funded_amnt','funded_amnt_inv','term','int_rate','installment','pymnt_plan','out_prncp','out_prncp_inv','total_pymnt','total_pymnt_inv','total_rec_prncp','total_rec_int','total_rec_late_fee','recoveries','collection_recovery_fee','last_pymnt_amnt'],axis=1, inplace=True)\n",
    "\n",
    "    # Categorical columns for use in one-hot encoder\n",
    "    categorical = (df.dtypes.values != np.dtype('float64'))\n",
    "\n",
    "    # Encode all labels\n",
    "    df = df.apply(encode_categorical)\n",
    "    \n",
    "    #Get numeric data for predicting KNN values\n",
    "    df_fill=df.dropna(axis=1,how='any')\n",
    "    df_fillnum=df_fill._get_numeric_data()\n",
    "\n",
    "\n",
    "    \n",
    "    #Standardize values & apply KNN\n",
    "    df_complete=df.copy()\n",
    "    for c in df_complete.columns:\n",
    "        #df_complete[c] = (df.c - df.c.mean())/df_complete.c.std(ddof=0)\n",
    "        if df_complete[c].count()<n:\n",
    "            df_filled = df_complete[~df_complete[c].isnull()]\n",
    "            df_missing=df_complete[df_complete[c].isnull()]\n",
    "            df_predict=df_missing.copy()\n",
    "\n",
    "\n",
    "            x_fill=df_filled[df_fillnum.columns]\n",
    "            x_fill_std = Standardize(with_mean=False).fit_transform(x_fill)\n",
    "            x_miss=df_missing[df_fillnum.columns]\n",
    "            x_miss_std = Standardize(with_mean=False).fit_transform(x_miss)\n",
    "            y_fill=df_filled[c]\n",
    "\n",
    "\n",
    "            knn_class = KNN_class(n_neighbors=5)\n",
    "            knn_reg = KNN_reg(n_neighbors=5)\n",
    "            if df_complete[c].dtype == np.dtype('float64'):\n",
    "                knn_reg.fit(x_fill_std, y_fill)\n",
    "                #ypred=knn_reg.predict(x_miss_std)\n",
    "                df_predict.loc[:, c] = knn_reg.predict(x_miss_std)\n",
    "                \n",
    "            else:\n",
    "                knn_class.fit(x_fill, y_fill)\n",
    "                #ypred=knn_reg.predict(x_miss_std)\n",
    "                df_predict.loc[:, c] = knn_class.predict(x_miss)\n",
    "            \n",
    "            df_complete = pd.concat([df_filled, df_predict])\n",
    "            print str(c) + ' done'\n",
    "    \n",
    "    \n",
    "    #Converting real valued predictors to float\n",
    "    to_float = ['loan_amnt','revol_bal','acc_now_delinq']\n",
    "\n",
    "    # Converted columns to floating point\n",
    "    for feature_name in to_float:\n",
    "        df_complete[feature_name] = df_complete[feature_name].astype(float)\n",
    "    \n",
    "    \n",
    "    #Create new variables#\n",
    "    #Log of income\n",
    "    df_complete['log_annual_inc'] = df_complete['annual_inc'].apply(np.log, 1)\n",
    "\n",
    "    #Right censor delinq\n",
    "    df_complete.loc[df_complete['delinq_2yrs']>2, 'delinq_2yrs']=2\n",
    "    df_complete.loc[df_complete['delinq_2yrs']<.5, 'delinq_2yrs']=0\n",
    "    df_complete.loc[(df_complete['delinq_2yrs']>.5) & (df_complete['delinq_2yrs']<2), 'delinq_2yrs']=1\n",
    "\n",
    "    df_complete['revol_inc_ratio']=df_complete['revol_bal']/df_complete['annual_inc']\n",
    "    \n",
    "    df_complete.drop(['annual_inc'],axis=1, inplace=True)\n",
    "    \n",
    "    \n",
    "    #Order loan status at the end of dataset\n",
    "    cols = list(df_complete.columns.values)\n",
    "    cols.pop(cols.index('loan_status'))\n",
    "    df_complete = df_complete[cols+['loan_status']]\n",
    "    \n",
    "    df_clean=df_complete\n",
    "    \n",
    "    #print 'shape of df:', df_clean.shape[0]\n",
    "    return df_clean\n"
   ]
  },
  {
   "cell_type": "code",
   "execution_count": 77,
   "metadata": {
    "collapsed": false
   },
   "outputs": [
    {
     "name": "stdout",
     "output_type": "stream",
     "text": [
      "(265070, 55)\n",
      "(265070, 22)\n",
      "annual_inc done\n",
      "delinq_2yrs done\n",
      "inq_last_6mths done\n",
      "open_acc done\n",
      "pub_rec done\n",
      "revol_util done\n",
      "total_acc done\n",
      "collections_12_mths_ex_med done\n",
      "acc_now_delinq done\n",
      "tot_coll_amt done\n",
      "tot_cur_bal done\n",
      "total_rev_hi_lim done\n",
      "emp_length_num done\n",
      "credit_age done\n"
     ]
    }
   ],
   "source": [
    "df_train_clean=clean_data(df_train)\n",
    "#Export cleaned training data\n",
    "df_train_clean.to_csv(\"loan_train_clean.csv\",index=False)"
   ]
  },
  {
   "cell_type": "code",
   "execution_count": 31,
   "metadata": {
    "collapsed": false
   },
   "outputs": [],
   "source": [
    "#Function to check percent of missing values in each variable\n",
    "def getPctMissing(series):\n",
    "    num = series.isnull().sum()\n",
    "    den=series.shape[0]\n",
    "    #den = series.count()\n",
    "    return 100*(num/den)\n",
    "\n"
   ]
  },
  {
   "cell_type": "code",
   "execution_count": 17,
   "metadata": {
    "collapsed": false
   },
   "outputs": [
    {
     "data": {
      "text/html": [
       "<div>\n",
       "<table border=\"1\" class=\"dataframe\">\n",
       "  <thead>\n",
       "    <tr style=\"text-align: right;\">\n",
       "      <th></th>\n",
       "      <th>loan_amnt</th>\n",
       "      <th>home_ownership</th>\n",
       "      <th>verification_status</th>\n",
       "      <th>purpose</th>\n",
       "      <th>dti</th>\n",
       "      <th>delinq_2yrs</th>\n",
       "      <th>inq_last_6mths</th>\n",
       "      <th>open_acc</th>\n",
       "      <th>pub_rec</th>\n",
       "      <th>revol_bal</th>\n",
       "      <th>...</th>\n",
       "      <th>application_type</th>\n",
       "      <th>acc_now_delinq</th>\n",
       "      <th>tot_coll_amt</th>\n",
       "      <th>tot_cur_bal</th>\n",
       "      <th>total_rev_hi_lim</th>\n",
       "      <th>emp_length_num</th>\n",
       "      <th>credit_age</th>\n",
       "      <th>log_annual_inc</th>\n",
       "      <th>revol_inc_ratio</th>\n",
       "      <th>loan_status</th>\n",
       "    </tr>\n",
       "  </thead>\n",
       "  <tbody>\n",
       "    <tr>\n",
       "      <th>0</th>\n",
       "      <td>481.0</td>\n",
       "      <td>5</td>\n",
       "      <td>1</td>\n",
       "      <td>2</td>\n",
       "      <td>19.22</td>\n",
       "      <td>0.0</td>\n",
       "      <td>1.0</td>\n",
       "      <td>9.0</td>\n",
       "      <td>0.0</td>\n",
       "      <td>10393.0</td>\n",
       "      <td>...</td>\n",
       "      <td>0</td>\n",
       "      <td>0.0</td>\n",
       "      <td>0.0</td>\n",
       "      <td>26163.0</td>\n",
       "      <td>13100.0</td>\n",
       "      <td>6.0</td>\n",
       "      <td>259.0</td>\n",
       "      <td>11.002100</td>\n",
       "      <td>0.173217</td>\n",
       "      <td>1</td>\n",
       "    </tr>\n",
       "    <tr>\n",
       "      <th>1</th>\n",
       "      <td>291.0</td>\n",
       "      <td>1</td>\n",
       "      <td>1</td>\n",
       "      <td>2</td>\n",
       "      <td>10.78</td>\n",
       "      <td>0.0</td>\n",
       "      <td>3.0</td>\n",
       "      <td>9.0</td>\n",
       "      <td>1.0</td>\n",
       "      <td>12974.0</td>\n",
       "      <td>...</td>\n",
       "      <td>0</td>\n",
       "      <td>0.0</td>\n",
       "      <td>74.0</td>\n",
       "      <td>140467.0</td>\n",
       "      <td>17800.0</td>\n",
       "      <td>10.0</td>\n",
       "      <td>343.0</td>\n",
       "      <td>11.482466</td>\n",
       "      <td>0.133753</td>\n",
       "      <td>1</td>\n",
       "    </tr>\n",
       "    <tr>\n",
       "      <th>2</th>\n",
       "      <td>771.0</td>\n",
       "      <td>1</td>\n",
       "      <td>1</td>\n",
       "      <td>2</td>\n",
       "      <td>27.22</td>\n",
       "      <td>2.0</td>\n",
       "      <td>0.0</td>\n",
       "      <td>10.0</td>\n",
       "      <td>0.0</td>\n",
       "      <td>3434.0</td>\n",
       "      <td>...</td>\n",
       "      <td>0</td>\n",
       "      <td>0.0</td>\n",
       "      <td>0.0</td>\n",
       "      <td>145013.0</td>\n",
       "      <td>3500.0</td>\n",
       "      <td>10.0</td>\n",
       "      <td>277.0</td>\n",
       "      <td>10.933107</td>\n",
       "      <td>0.061321</td>\n",
       "      <td>0</td>\n",
       "    </tr>\n",
       "    <tr>\n",
       "      <th>3</th>\n",
       "      <td>171.0</td>\n",
       "      <td>4</td>\n",
       "      <td>1</td>\n",
       "      <td>2</td>\n",
       "      <td>4.23</td>\n",
       "      <td>1.0</td>\n",
       "      <td>0.0</td>\n",
       "      <td>9.0</td>\n",
       "      <td>1.0</td>\n",
       "      <td>715.0</td>\n",
       "      <td>...</td>\n",
       "      <td>0</td>\n",
       "      <td>0.0</td>\n",
       "      <td>0.0</td>\n",
       "      <td>8066.0</td>\n",
       "      <td>3200.0</td>\n",
       "      <td>10.0</td>\n",
       "      <td>107.0</td>\n",
       "      <td>10.596635</td>\n",
       "      <td>0.017875</td>\n",
       "      <td>0</td>\n",
       "    </tr>\n",
       "    <tr>\n",
       "      <th>4</th>\n",
       "      <td>670.0</td>\n",
       "      <td>1</td>\n",
       "      <td>0</td>\n",
       "      <td>2</td>\n",
       "      <td>14.76</td>\n",
       "      <td>0.0</td>\n",
       "      <td>0.0</td>\n",
       "      <td>7.0</td>\n",
       "      <td>0.0</td>\n",
       "      <td>8957.0</td>\n",
       "      <td>...</td>\n",
       "      <td>0</td>\n",
       "      <td>0.0</td>\n",
       "      <td>0.0</td>\n",
       "      <td>155046.0</td>\n",
       "      <td>13800.0</td>\n",
       "      <td>3.0</td>\n",
       "      <td>58.0</td>\n",
       "      <td>10.878047</td>\n",
       "      <td>0.169000</td>\n",
       "      <td>0</td>\n",
       "    </tr>\n",
       "  </tbody>\n",
       "</table>\n",
       "<p>5 rows × 23 columns</p>\n",
       "</div>"
      ],
      "text/plain": [
       "   loan_amnt  home_ownership  verification_status  purpose    dti  \\\n",
       "0      481.0               5                    1        2  19.22   \n",
       "1      291.0               1                    1        2  10.78   \n",
       "2      771.0               1                    1        2  27.22   \n",
       "3      171.0               4                    1        2   4.23   \n",
       "4      670.0               1                    0        2  14.76   \n",
       "\n",
       "   delinq_2yrs  inq_last_6mths  open_acc  pub_rec  revol_bal     ...       \\\n",
       "0          0.0             1.0       9.0      0.0    10393.0     ...        \n",
       "1          0.0             3.0       9.0      1.0    12974.0     ...        \n",
       "2          2.0             0.0      10.0      0.0     3434.0     ...        \n",
       "3          1.0             0.0       9.0      1.0      715.0     ...        \n",
       "4          0.0             0.0       7.0      0.0     8957.0     ...        \n",
       "\n",
       "   application_type  acc_now_delinq  tot_coll_amt  tot_cur_bal  \\\n",
       "0                 0             0.0           0.0      26163.0   \n",
       "1                 0             0.0          74.0     140467.0   \n",
       "2                 0             0.0           0.0     145013.0   \n",
       "3                 0             0.0           0.0       8066.0   \n",
       "4                 0             0.0           0.0     155046.0   \n",
       "\n",
       "   total_rev_hi_lim  emp_length_num  credit_age  log_annual_inc  \\\n",
       "0           13100.0             6.0       259.0       11.002100   \n",
       "1           17800.0            10.0       343.0       11.482466   \n",
       "2            3500.0            10.0       277.0       10.933107   \n",
       "3            3200.0            10.0       107.0       10.596635   \n",
       "4           13800.0             3.0        58.0       10.878047   \n",
       "\n",
       "   revol_inc_ratio  loan_status  \n",
       "0         0.173217            1  \n",
       "1         0.133753            1  \n",
       "2         0.061321            0  \n",
       "3         0.017875            0  \n",
       "4         0.169000            0  \n",
       "\n",
       "[5 rows x 23 columns]"
      ]
     },
     "execution_count": 17,
     "metadata": {},
     "output_type": "execute_result"
    }
   ],
   "source": [
    "#Reading in clean data\n",
    "train_clean=pd.read_csv('loan_train_clean.csv')\n",
    "train_clean.head()"
   ]
  },
  {
   "cell_type": "code",
   "execution_count": 81,
   "metadata": {
    "collapsed": false
   },
   "outputs": [
    {
     "data": {
      "text/plain": [
       "1    199866\n",
       "0     65204\n",
       "Name: loan_status, dtype: int64"
      ]
     },
     "execution_count": 81,
     "metadata": {},
     "output_type": "execute_result"
    }
   ],
   "source": [
    "train_clean['loan_status'].value_counts()"
   ]
  },
  {
   "cell_type": "code",
   "execution_count": 18,
   "metadata": {
    "collapsed": false
   },
   "outputs": [
    {
     "data": {
      "text/plain": [
       "(132535, 23)"
      ]
     },
     "execution_count": 18,
     "metadata": {},
     "output_type": "execute_result"
    }
   ],
   "source": [
    "#Take sample so model runs faster\n",
    "train_sample=train_clean.sample(frac=.50)\n",
    "train_sample.shape"
   ]
  },
  {
   "cell_type": "code",
   "execution_count": 20,
   "metadata": {
    "collapsed": true
   },
   "outputs": [],
   "source": [
    "#One hot encoding\n",
    "def one_hot(df):\n",
    "    # Categorical columns for use in one-hot encoder\n",
    "    categorical = (df.dtypes.values != np.dtype('float64'))\n",
    "    print categorical\n",
    "\n",
    "    # Get numpy array from data\n",
    "    x = df.values[:, :-1]\n",
    "    y = df.values[:, -1]\n",
    "    \n",
    "    # Apply one hot endcoing\n",
    "    encoder = preprocessing.OneHotEncoder(categorical_features=categorical[:-1], sparse=False)  # Last value in mask is y\n",
    "    x = encoder.fit_transform(x)\n",
    "    \n",
    "    print 'x shape', x.shape\n",
    "    print 'y shape', y.shape\n",
    "    return x, y\n",
    "\n"
   ]
  },
  {
   "cell_type": "code",
   "execution_count": 34,
   "metadata": {
    "collapsed": false
   },
   "outputs": [
    {
     "name": "stdout",
     "output_type": "stream",
     "text": [
      "[False  True  True  True False False False False False False False False\n",
      " False  True False False False False False False False False  True]\n",
      "x shape (132535, 41)\n",
      "y shape (132535,)\n"
     ]
    }
   ],
   "source": [
    "(x,y)=one_hot(train_sample)"
   ]
  },
  {
   "cell_type": "code",
   "execution_count": 22,
   "metadata": {
    "collapsed": false
   },
   "outputs": [
    {
     "name": "stdout",
     "output_type": "stream",
     "text": [
      "(92774, 41)\n",
      "(92774,)\n",
      "(39761, 41)\n",
      "(39761,)\n"
     ]
    }
   ],
   "source": [
    "#Splitting data into train & test\n",
    "x_train, x_test, y_train, y_test = train_test_split(x, y, test_size=0.3, random_state=42)\n",
    "\n",
    "print x_train.shape\n",
    "print y_train.shape\n",
    "print x_test.shape\n",
    "print y_test.shape"
   ]
  },
  {
   "cell_type": "markdown",
   "metadata": {},
   "source": [
    "For our baseline models, we train a series of models on the cleaned data and assess the performance. We examine overall accuracy as well as accuracy on defaulters and accuracy on fully paid."
   ]
  },
  {
   "cell_type": "code",
   "execution_count": 90,
   "metadata": {
    "collapsed": false,
    "scrolled": true
   },
   "outputs": [
    {
     "name": "stdout",
     "output_type": "stream",
     "text": [
      "time to fit KNN: 95.6256661415\n",
      "time to fit Unweighted Logit: 2.45746397972\n",
      "time to fit Unweighted Quadratic Logit: 94.4321699142\n",
      "time to fit Weighted Logit: 12.1821789742\n",
      "time to fit Weighted Quadratic Logit: 117.933777094\n",
      "time to fit LDA: 2.01203989983\n",
      "time to fit QDA: 0.878043174744\n",
      "time to fit Decision Tree: 1.02348899841\n",
      "time to fit Random Forest: 6.79877686501\n",
      "time to fit Random Forest: 6.94444179535\n"
     ]
    },
    {
     "data": {
      "text/html": [
       "<div>\n",
       "<table border=\"1\" class=\"dataframe\">\n",
       "  <thead>\n",
       "    <tr style=\"text-align: right;\">\n",
       "      <th></th>\n",
       "      <th>brf</th>\n",
       "      <th>knn</th>\n",
       "      <th>lda</th>\n",
       "      <th>qda</th>\n",
       "      <th>rf</th>\n",
       "      <th>tree</th>\n",
       "      <th>unweighted logistic</th>\n",
       "      <th>unweighted quad logistic</th>\n",
       "      <th>weighted logistic</th>\n",
       "      <th>weighted quad logistic</th>\n",
       "    </tr>\n",
       "  </thead>\n",
       "  <tbody>\n",
       "    <tr>\n",
       "      <th>overall accuracy</th>\n",
       "      <td>0.659467</td>\n",
       "      <td>0.625437</td>\n",
       "      <td>0.692279</td>\n",
       "      <td>0.403426</td>\n",
       "      <td>0.663514</td>\n",
       "      <td>0.683308</td>\n",
       "      <td>0.678254</td>\n",
       "      <td>0.677165</td>\n",
       "      <td>0.605122</td>\n",
       "      <td>0.566135</td>\n",
       "    </tr>\n",
       "    <tr>\n",
       "      <th>accuracy on class 0</th>\n",
       "      <td>0.364067</td>\n",
       "      <td>0.215154</td>\n",
       "      <td>0.169431</td>\n",
       "      <td>0.925190</td>\n",
       "      <td>0.325352</td>\n",
       "      <td>0.030549</td>\n",
       "      <td>0.019055</td>\n",
       "      <td>0.002571</td>\n",
       "      <td>0.629329</td>\n",
       "      <td>0.620860</td>\n",
       "    </tr>\n",
       "    <tr>\n",
       "      <th>accuracy on class 1</th>\n",
       "      <td>0.800005</td>\n",
       "      <td>0.820630</td>\n",
       "      <td>0.941026</td>\n",
       "      <td>0.155195</td>\n",
       "      <td>0.824396</td>\n",
       "      <td>0.993860</td>\n",
       "      <td>0.991870</td>\n",
       "      <td>0.998105</td>\n",
       "      <td>0.593606</td>\n",
       "      <td>0.540100</td>\n",
       "    </tr>\n",
       "  </tbody>\n",
       "</table>\n",
       "</div>"
      ],
      "text/plain": [
       "                          brf       knn       lda       qda        rf  \\\n",
       "overall accuracy     0.659467  0.625437  0.692279  0.403426  0.663514   \n",
       "accuracy on class 0  0.364067  0.215154  0.169431  0.925190  0.325352   \n",
       "accuracy on class 1  0.800005  0.820630  0.941026  0.155195  0.824396   \n",
       "\n",
       "                         tree  unweighted logistic  unweighted quad logistic  \\\n",
       "overall accuracy     0.683308             0.678254                  0.677165   \n",
       "accuracy on class 0  0.030549             0.019055                  0.002571   \n",
       "accuracy on class 1  0.993860             0.991870                  0.998105   \n",
       "\n",
       "                     weighted logistic  weighted quad logistic  \n",
       "overall accuracy              0.605122                0.566135  \n",
       "accuracy on class 0           0.629329                0.620860  \n",
       "accuracy on class 1           0.593606                0.540100  "
      ]
     },
     "execution_count": 90,
     "metadata": {},
     "output_type": "execute_result"
    }
   ],
   "source": [
    "# Running initial models\n",
    "score = lambda model, x_test, y_test: pd.Series([model.score(x_test, y_test), \n",
    "                                                 model.score(x_test[y_test==0], y_test[y_test==0]),\n",
    "                                                 model.score(x_test[y_test==1], y_test[y_test==1])], \n",
    "                                                index=['overall accuracy', 'accuracy on class 0', 'accuracy on class 1'])\n",
    "\n",
    "\n",
    "#KNN\n",
    "knn = KNN_class(n_neighbors=5)\n",
    "start = time.time()\n",
    "knn.fit(x_train, y_train)\n",
    "knn_time = time.time() - start\n",
    "knn_scores = score(knn, x_test, y_test)\n",
    "print \"time to fit KNN: \" +str(knn_time)\n",
    "\n",
    "#Unweighted logistic regression\n",
    "unweighted_logistic = LogisticRegression()\n",
    "start = time.time()\n",
    "unweighted_logistic.fit(x_train, y_train)\n",
    "logit_time = time.time() - start\n",
    "unweighted_log_scores = score(unweighted_logistic, x_test, y_test)\n",
    "print \"time to fit Unweighted Logit: \" +str(logit_time)\n",
    "\n",
    "#Unweighted logistic quadratic regression\n",
    "unweighted_logistic_poly = LogisticRegression()\n",
    "\n",
    "#Expand our predictor array with quadratic terms\n",
    "start = time.time()\n",
    "quad_features = preprocessing.PolynomialFeatures(degree = 2)\n",
    "x_expanded_train = quad_features.fit_transform(x_train)\n",
    "x_expanded_test = quad_features.fit_transform(x_test)\n",
    "\n",
    "unweighted_logistic_poly.fit(x_expanded_train, y_train)\n",
    "qlogit_time = time.time() - start\n",
    "unweighted_log_poly_scores = score(unweighted_logistic_poly, x_expanded_test, y_test)\n",
    "print \"time to fit Unweighted Quadratic Logit: \" +str(qlogit_time)\n",
    "\n",
    "\n",
    "\n",
    "#Weighted logistic regression\n",
    "weighted_logistic = LogisticRegression(class_weight='balanced')\n",
    "start = time.time()\n",
    "weighted_logistic.fit(x_train, y_train)\n",
    "wlogit_time = time.time() - start\n",
    "weighted_log_scores = score(weighted_logistic, x_test, y_test)\n",
    "print \"time to fit Weighted Logit: \" +str(wlogit_time)\n",
    "\n",
    "\n",
    "#Weighted quad logistic regression\n",
    "weighted_logistic_poly = LogisticRegression(class_weight='balanced')\n",
    "start = time.time()\n",
    "#Expand our predictor array with quadratic terms\n",
    "quad_features = preprocessing.PolynomialFeatures(degree = 2)\n",
    "x_expanded_train = quad_features.fit_transform(x_train)\n",
    "x_expanded_test = quad_features.fit_transform(x_test)\n",
    "\n",
    "weighted_logistic_poly.fit(x_expanded_train, y_train)\n",
    "qwlogit_time = time.time() - start\n",
    "print \"time to fit Weighted Quadratic Logit: \" +str(qwlogit_time)\n",
    "weighted_log_poly_scores = score(weighted_logistic_poly, x_expanded_test, y_test)\n",
    "\n",
    "\n",
    "#LDA\n",
    "lda = LDA()\n",
    "start = time.time()\n",
    "lda.fit(x_train, y_train)\n",
    "lda_time = time.time() - start\n",
    "lda_scores = score(lda, x_test, y_test)\n",
    "print \"time to fit LDA: \" +str(lda_time)\n",
    "\n",
    "\n",
    "\n",
    "#QDA\n",
    "qda = QDA()\n",
    "start = time.time()\n",
    "qda.fit(x_train, y_train)\n",
    "qda_time = time.time() - start\n",
    "qda_scores = score(qda, x_test, y_test)\n",
    "print \"time to fit QDA: \" +str(qda_time)\n",
    "\n",
    "\n",
    "\n",
    "#Decision Tree\n",
    "tree = DecisionTree(max_depth=3)\n",
    "start = time.time()\n",
    "tree.fit(x_train, y_train)\n",
    "dt_time = time.time() - start\n",
    "print \"time to fit Decision Tree: \" +str(dt_time)\n",
    "tree_scores = score(tree, x_test, y_test)\n",
    "\n",
    "\n",
    "\n",
    "#Random Forest\n",
    "rf = RandomForest(class_weight='balanced')\n",
    "start = time.time()\n",
    "rf.fit(x_train, y_train)\n",
    "rf_time = time.time() - start\n",
    "print \"time to fit Random Forest: \" +str(rf_time)\n",
    "rf_scores = score(rf, x_test, y_test)\n",
    "\n",
    "\n",
    "#Balanced Random Forest\n",
    "brf = RandomForest()\n",
    "start = time.time()\n",
    "brf.fit(x_train, y_train)\n",
    "brf_time = time.time() - start\n",
    "print \"time to fit Random Forest: \" +str(brf_time)\n",
    "brf_scores = score(brf, x_test, y_test)\n",
    "\n",
    "\n",
    "\n",
    "#Score Dataframe\n",
    "score_df = pd.DataFrame({'knn': knn_scores, \n",
    "                         'unweighted logistic': unweighted_log_scores,\n",
    "                         'unweighted quad logistic': unweighted_log_poly_scores,\n",
    "                         'weighted logistic': weighted_log_scores,\n",
    "                         'weighted quad logistic': weighted_log_poly_scores,\n",
    "                         'lda': lda_scores,\n",
    "                         'qda': qda_scores,\n",
    "                         'tree': tree_scores,\n",
    "                         'rf': rf_scores,\n",
    "                         'brf': brf_scores})\n",
    "score_df"
   ]
  },
  {
   "cell_type": "markdown",
   "metadata": {},
   "source": [
    "Our assumption is that Lending Club cares most about prediction accuracy on defaulters, so we will place a greater weight on that accuracy. As such, we knock out all models from this out of the box results except weighted logistic, weighted quadratic logistic, and balanced random forests. We are interested to see if the performances of these models are consistent across sampling variance. To test this, we perform 5-folds cross validation on these three models and assess the mean accuracy scores."
   ]
  },
  {
   "cell_type": "code",
   "execution_count": 136,
   "metadata": {
    "collapsed": false
   },
   "outputs": [],
   "source": [
    "#Cross-validation with weighted logistic, weighted quad logistic & brf\n",
    "def crossval(x, y, k):\n",
    "    \n",
    "    n=x.shape[0]\n",
    "    \n",
    "    kf = KFold(n,n_folds=k)\n",
    "    wl_tot_scores = []\n",
    "    wl_class0_score = []\n",
    "    wl_class1_score = []\n",
    "    \n",
    "    qwl_tot_scores = []\n",
    "    qwl_class0_score = []\n",
    "    qwl_class1_score = []\n",
    "    \n",
    "    rbf_tot_scores = []\n",
    "    rbf_class0_score = []\n",
    "    rbf_class1_score = []\n",
    "    \n",
    "    \n",
    "    for train_index, test_index in kf:\n",
    "        x_train, x_test = x[train_index], x[test_index]\n",
    "        y_train, y_test = y[train_index], y[test_index]\n",
    "        \n",
    "        #Weighted logistic\n",
    "        wlogit= LogisticRegression(class_weight='balanced')\n",
    "        wlogit.fit(x_train,y_train)\n",
    "        wl_tot_scores.append(wlogit.score(x_test, y_test))\n",
    "        wl_class0_score.append(wlogit.score(x_test[y_test==0], y_test[y_test==0]))\n",
    "        wl_class1_score.append(wlogit.score(x_test[y_test==1], y_test[y_test==1]))\n",
    "        \n",
    "                               \n",
    "        #Weighted Quadratic logistic\n",
    "        qwlogit= LogisticRegression(class_weight='balanced')\n",
    "        \n",
    "        #Expand our predictor array with quadratic terms\n",
    "        quad_features = preprocessing.PolynomialFeatures(degree = 2)\n",
    "        x_expanded_train = quad_features.fit_transform(x_train)\n",
    "        x_expanded_test = quad_features.fit_transform(x_test)\n",
    "    \n",
    "        qwlogit.fit(x_expanded_train,y_train)\n",
    "        qwl_tot_scores.append(qwlogit.score(x_expanded_test, y_test))\n",
    "        qwl_class0_score.append(qwlogit.score(x_expanded_test[y_test==0], y_test[y_test==0]))\n",
    "        qwl_class1_score.append(qwlogit.score(x_expanded_test[y_test==1], y_test[y_test==1]))\n",
    "                                \n",
    "                                \n",
    "        #Weighted random forest\n",
    "        rbf= RandomForest(class_weight='balanced')\n",
    "        rbf.fit(x_train,y_train)\n",
    "    \n",
    "        rbf_tot_scores.append(rbf.score(x_test, y_test))\n",
    "        rbf_class0_score.append(rbf.score(x_test[y_test==0], y_test[y_test==0]))\n",
    "        rbf_class1_score.append(rbf.score(x_test[y_test==1], y_test[y_test==1]))\n",
    "    \n",
    "                                \n",
    "    # Record and report accuracy\n",
    "    wl_tot_average_score = np.mean(wl_tot_scores)\n",
    "    wl_class0_avg = np.mean(wl_class0_score)\n",
    "    wl_class1_avg = np.mean(wl_class1_score)\n",
    "                                \n",
    "    qwl_tot_average_score = np.mean(qwl_tot_scores)\n",
    "    qwl_class0_avg = np.mean(qwl_class0_score)\n",
    "    qwl_class1_avg = np.mean(qwl_class1_score)\n",
    "                                \n",
    "    rbf_tot_average_score = np.mean(rbf_tot_scores)\n",
    "    rbf_class0_avg = np.mean(rbf_class0_score)\n",
    "    rbf_class1_avg = np.mean(rbf_class1_score)\n",
    "    \n",
    "    \n",
    "    print 'weighted logit total accuracy: ' +str(wl_tot_average_score)\n",
    "    print 'weighted logit accuracy on class 0: ' +str(wl_class0_avg)\n",
    "    print 'weighted logit accuracy on class 1: ' +str(wl_class1_avg)\n",
    "                                \n",
    "    print 'weighted quadratic logit total accuracy: ' +str(qwl_tot_average_score)\n",
    "    print 'weighted quadratic logit accuracy on class 0: ' +str(qwl_class0_avg)\n",
    "    print 'weighted quadratic logit accuracy on class 1: ' +str(qwl_class1_avg)\n",
    "                                \n",
    "    print 'weighted random forest total accuracy: ' +str(rbf_tot_average_score)\n",
    "    print 'weighted random forest accuracy on class 0: ' +str(rbf_class0_avg)\n",
    "    print 'weighted random forest accuracy on class 1: ' +str(rbf_class1_avg)\n",
    "\n",
    "    "
   ]
  },
  {
   "cell_type": "code",
   "execution_count": 137,
   "metadata": {
    "collapsed": false
   },
   "outputs": [
    {
     "name": "stdout",
     "output_type": "stream",
     "text": [
      "weighted logit total accuracy: 0.605296714076\n",
      "weighted logit accuracy on class 0: 0.626569442613\n",
      "weighted logit accuracy on class 1: 0.598349887777\n",
      "weighted quadratic logit total accuracy: 0.568023540951\n",
      "weighted quadratic logit accuracy on class 0: 0.606943004794\n",
      "weighted quadratic logit accuracy on class 1: 0.555254803002\n",
      "weighted random forest total accuracy: 0.731572792093\n",
      "weighted random forest accuracy on class 0: 0.195034740958\n",
      "weighted random forest accuracy on class 1: 0.906832909272\n"
     ]
    }
   ],
   "source": [
    "crossval(x, y, 5)"
   ]
  },
  {
   "cell_type": "markdown",
   "metadata": {},
   "source": [
    "Weighted logistic regression performs the best on defaulters - which is what we care about - so we will move forward with this model. Next we will apply a l1 penalty and tune the C parameter. We choose l1 because we care about feature selection as one of our objectives is to decrease the number of variables needed to predict default."
   ]
  },
  {
   "cell_type": "code",
   "execution_count": 170,
   "metadata": {
    "collapsed": false
   },
   "outputs": [
    {
     "name": "stdout",
     "output_type": "stream",
     "text": [
      "5-fold cross validation:\n",
      "C: 1e-08 Overall Score: 0.75295884471 Class 0 score: 0.000173080880423 Class 1 score: 0.999856855642\n",
      "C: 1e-07 Overall Score: 0.586974846768 Class 0 score: 0.483269356089 Class 1 score: 0.620964813376\n",
      "C: 1e-06 Overall Score: 0.554142242122 Class 0 score: 0.601728378757 Class 1 score: 0.538538509191\n",
      "C: 1e-05 Overall Score: 0.55083322782 Class 0 score: 0.633535175635 Class 1 score: 0.523716598685\n",
      "C: 0.0001 Overall Score: 0.549313380591 Class 0 score: 0.65815206991 Class 1 score: 0.513612499183\n",
      "C: 0.001 Overall Score: 0.603444893327 Class 0 score: 0.628036694478 Class 1 score: 0.595352131383\n",
      "C: 0.01 Overall Score: 0.617166430122 Class 0 score: 0.630927546409 Class 1 score: 0.61265016136\n",
      "C: 0.1 Overall Score: 0.619160543048 Class 0 score: 0.639996722861 Class 1 score: 0.61232986679\n",
      "C: 1.0 Overall Score: 0.6190527246 Class 0 score: 0.640308452005 Class 1 score: 0.612085484229\n",
      "C: 10.0 Overall Score: 0.619397711334 Class 0 score: 0.641128842884 Class 1 score: 0.61225687486\n",
      "C: 100.0 Overall Score: 0.618600078595 Class 0 score: 0.640695293203 Class 1 score: 0.611383245168\n",
      "C: 1000.0 Overall Score: 0.618912662224 Class 0 score: 0.64130429741 Class 1 score: 0.611575921676\n",
      "C: 10000.0 Overall Score: 0.619235978142 Class 0 score: 0.642030243267 Class 1 score: 0.611761042423\n",
      "C: 100000.0 Overall Score: 0.618955855133 Class 0 score: 0.640530427223 Class 1 score: 0.611865699812\n",
      "C: 1000000.0 Overall Score: 0.618804840871 Class 0 score: 0.640445034932 Class 1 score: 0.611642876146\n",
      "C: 10000000.0 Overall Score: 0.619451596449 Class 0 score: 0.641433530476 Class 1 score: 0.612238389015\n",
      "Chosen number of C: 0.0001\n",
      "Best accuracy on defaulters: 0.65815206991\n"
     ]
    },
    {
     "data": {
      "image/png": "[encoded data removed]",
      "text/plain": [
       "<matplotlib.figure.Figure at 0x11eb9a8d0>"
      ]
     },
     "metadata": {},
     "output_type": "display_data"
    }
   ],
   "source": [
    "# Parameters for tuning\n",
    "regularization = 10. ** np.arange(-8, 8)\n",
    "\n",
    "# To keep track of the best model\n",
    "best_score = 0\n",
    "\n",
    "# Run grid search for model with 5-fold cross validation\n",
    "print '5-fold cross validation:'\n",
    "\n",
    "class0_train = []\n",
    "\n",
    "for C in regularization:\n",
    "    # Cross validation for every experiment\n",
    "    k_folds = KFold(x_train.shape[0], n_folds=5, shuffle=True)\n",
    "    tot_scores = []\n",
    "    class0_score = []\n",
    "    class1_score = []\n",
    "    for train_indices, validation_indices in k_folds:\n",
    "        # Generate training data\n",
    "        x_train_cv = x_train[train_indices]\n",
    "        y_train_cv = y_train[train_indices]\n",
    "        # Generate validation data\n",
    "        x_validate = x_train[validation_indices]\n",
    "        y_validate = y_train[validation_indices]\n",
    "            \n",
    "        # Fit weighted logit on training data\n",
    "        wlogit=LogisticRegression(class_weight='balanced',penalty='l1',C=C)\n",
    "        wlogit.fit(x_train_cv, y_train_cv)\n",
    "        # Score on validation data\n",
    "        tot_scores += [wlogit.score(x_validate, y_validate)]\n",
    "        class0_score += [wlogit.score(x_validate[y_validate==0], y_validate[y_validate==0])]\n",
    "        class1_score += [wlogit.score(x_validate[y_validate==1], y_validate[y_validate==1])]\n",
    "        \n",
    "    # Record and report accuracy\n",
    "    tot_average_score = np.mean(tot_scores)\n",
    "    class0_avg = np.mean(class0_score)\n",
    "    class1_avg = np.mean(class1_score)\n",
    "    print \"C:\", C, \"Overall Score:\", tot_average_score, \"Class 0 score:\", class0_avg, \"Class 1 score:\", class1_avg\n",
    "    \n",
    "    class0_train.append(class0_avg)\n",
    "    \n",
    "    \n",
    "    # Update our record of the best parameters see so far\n",
    "    if class0_avg > best_score:\n",
    "        best_score = class0_avg\n",
    "        best_C = C\n",
    "    \n",
    "\n",
    "print 'Chosen number of C:', best_C\n",
    "print 'Best accuracy on defaulters:', best_score\n",
    "\n",
    "\n",
    "\n",
    "fig, ax = plt.subplots(1, 1, figsize=(8, 8))\n",
    "\n",
    "ax.semilogx(regularization, (class0_train), c='b', label='CV score')\n",
    "\n",
    "\n",
    "\n",
    "ax.set_xlabel('Regularization parameter $\\lambda$')\n",
    "ax.set_ylabel('CV score')\n",
    "\n",
    "#ax.set_ylim((test_r_squared_plain-0.2, 1.2))\n",
    "ax.legend(loc = 'best')\n",
    "\n",
    "plt.show()"
   ]
  },
  {
   "cell_type": "markdown",
   "metadata": {},
   "source": [
    "Now that we have our optimum C parameter, we can fit the model and determine the non-zero coefficients, which will be are selected features."
   ]
  },
  {
   "cell_type": "code",
   "execution_count": 24,
   "metadata": {
    "collapsed": false
   },
   "outputs": [
    {
     "name": "stdout",
     "output_type": "stream",
     "text": [
      "[[  0.00000000e+00   0.00000000e+00   0.00000000e+00   0.00000000e+00\n",
      "    0.00000000e+00   0.00000000e+00   0.00000000e+00   0.00000000e+00\n",
      "    0.00000000e+00   0.00000000e+00   0.00000000e+00   0.00000000e+00\n",
      "    0.00000000e+00   0.00000000e+00   0.00000000e+00   0.00000000e+00\n",
      "    0.00000000e+00   0.00000000e+00   0.00000000e+00   0.00000000e+00\n",
      "    0.00000000e+00   0.00000000e+00   0.00000000e+00  -7.71423764e-04\n",
      "   -2.57755764e-02   0.00000000e+00   0.00000000e+00   0.00000000e+00\n",
      "    0.00000000e+00  -1.05325907e-05  -2.77668530e-03   4.99462550e-03\n",
      "    0.00000000e+00   0.00000000e+00  -4.74403883e-07   1.45586758e-06\n",
      "    9.70284414e-06   0.00000000e+00   1.22753214e-03   2.62020561e-02\n",
      "    0.00000000e+00]]\n"
     ]
    }
   ],
   "source": [
    "#Feature selection\n",
    "final_logit=LogisticRegression(class_weight='balanced',penalty='l1',C=best_C)\n",
    "final_logit.fit(x,y)\n",
    "coeff=final_logit.coef_\n",
    "\n",
    "print coeff\n"
   ]
  },
  {
   "cell_type": "markdown",
   "metadata": {},
   "source": [
    "Below we provide a function that plots a graph to illustrate the lasso coefficients shrinking to zero."
   ]
  },
  {
   "cell_type": "code",
   "execution_count": 230,
   "metadata": {
    "collapsed": true
   },
   "outputs": [],
   "source": [
    "#Lasso & Cross Validation\n",
    "def lassoreg(x_train, y_train, x_test, y_test, lambda_min, lambda_max, num_lambdas):\n",
    "   \n",
    "    num_predictors = x_train.shape[1]\n",
    "\n",
    "    lambdas= np.linspace(lambda_min,lambda_max, num_lambdas)\n",
    "\n",
    "    train_r_squared = np.zeros(num_lambdas)\n",
    "    test_r_squared = np.zeros(num_lambdas)\n",
    "\n",
    "    coeff_a =np.zeros((num_lambdas, num_predictors))\n",
    "    \n",
    "    \n",
    "    for ind, i in enumerate(lambdas):    \n",
    "        # Fit ridge/lasso regression on train set\n",
    "        wlogit=LogisticRegression(class_weight='balanced',penalty='l1',C=10**i)\n",
    "        wlogit.fit(x_train, y_train)\n",
    "\n",
    "\n",
    "        coeff_a[ind,:] = wlogit.coef_\n",
    "    \n",
    "        ind = ind + 1\n",
    "        \n",
    "    return coeff_a, lambdas\n",
    "\n",
    "\n",
    "#Create functions to plot both coefficients and R^2 as functions of lambda\n",
    "def PlotCoeff(lambdas, coeff_a):\n",
    "    plt.figure(figsize=(8,8))\n",
    "    h=plt.semilogx(10**lambdas, coeff_a);\n",
    "    plt.ylabel(\"Standarized Coefficients\")\n",
    "    plt.xlabel(r'Regularization parameter $\\lambda$')\n",
    "    plt.legend(h, train_clean.columns.values,loc='center left', bbox_to_anchor=(1, 0.5))\n",
    "    plt.show()\n",
    "\n"
   ]
  },
  {
   "cell_type": "code",
   "execution_count": 231,
   "metadata": {
    "collapsed": false
   },
   "outputs": [
    {
     "data": {
      "image/png": "[encoded data removed]",
      "text/plain": [
       "<matplotlib.figure.Figure at 0x11a6cb3d0>"
      ]
     },
     "metadata": {},
     "output_type": "display_data"
    }
   ],
   "source": [
    "coeff_a, lambdas=lassoreg( x_train, y_train, x_test, y_test, -8, 8, 500)\n",
    "PlotCoeff(lambdas, coeff_a)"
   ]
  },
  {
   "cell_type": "markdown",
   "metadata": {},
   "source": [
    "The above model determines an individual's loan status on whether their predicted probability of default was greater or less than 0.5. However, Lending Club may prefer a different threshold (instead of 0.5) to make that decision. Below we plot an ROC curve to illustrate the trade-off between setting these threshold at different rates."
   ]
  },
  {
   "cell_type": "code",
   "execution_count": 25,
   "metadata": {
    "collapsed": false
   },
   "outputs": [
    {
     "data": {
      "image/png": "[encoded data removed]",
      "text/plain": [
       "<matplotlib.figure.Figure at 0x141f1de10>"
      ]
     },
     "metadata": {},
     "output_type": "display_data"
    }
   ],
   "source": [
    "#ROC curve\n",
    "final_logit=LogisticRegression(class_weight='balanced',penalty='l1',C=best_C)\n",
    "final_logit.fit(x,y)\n",
    "y_pred=final_logit.predict_proba(x)\n",
    "\n",
    "\n",
    "fpr, tpr, thresholds = metrics.roc_curve(y, y_pred[:,1], pos_label=1)\n",
    "roc_auc = auc(fpr, tpr)\n",
    "\n",
    "plt.figure(figsize=(7,7))\n",
    "lw = 2\n",
    "plt.plot(fpr, tpr, color='darkorange',\n",
    "         lw=lw, label='ROC curve (area = %0.2f)' % roc_auc)\n",
    "plt.plot([0, 1], [0, 1], color='navy', lw=lw, linestyle='--')\n",
    "plt.xlim([0.0, 1.0])\n",
    "plt.ylim([0.0, 1.05])\n",
    "plt.xlabel('False Positive Rate')\n",
    "plt.ylabel('True Positive Rate')\n",
    "plt.title('Receiver Operating Characteristic')\n",
    "plt.legend(loc=\"lower right\")\n",
    "plt.show()"
   ]
  },
  {
   "cell_type": "markdown",
   "metadata": {},
   "source": [
    "Finally, we will assess the model's accuracy on the future loan test set that we removed at the very beginning. We first read in the dataset and perform identical cleaning and processing steps."
   ]
  },
  {
   "cell_type": "code",
   "execution_count": 26,
   "metadata": {
    "collapsed": false
   },
   "outputs": [
    {
     "data": {
      "text/html": [
       "<div>\n",
       "<table border=\"1\" class=\"dataframe\">\n",
       "  <thead>\n",
       "    <tr style=\"text-align: right;\">\n",
       "      <th></th>\n",
       "      <th>id</th>\n",
       "      <th>member_id</th>\n",
       "      <th>loan_amnt</th>\n",
       "      <th>funded_amnt</th>\n",
       "      <th>funded_amnt_inv</th>\n",
       "      <th>term</th>\n",
       "      <th>int_rate</th>\n",
       "      <th>installment</th>\n",
       "      <th>grade</th>\n",
       "      <th>sub_grade</th>\n",
       "      <th>...</th>\n",
       "      <th>il_util</th>\n",
       "      <th>open_rv_12m</th>\n",
       "      <th>open_rv_24m</th>\n",
       "      <th>max_bal_bc</th>\n",
       "      <th>all_util</th>\n",
       "      <th>total_rev_hi_lim</th>\n",
       "      <th>inq_fi</th>\n",
       "      <th>total_cu_tl</th>\n",
       "      <th>inq_last_12m</th>\n",
       "      <th>loan_date</th>\n",
       "    </tr>\n",
       "  </thead>\n",
       "  <tbody>\n",
       "    <tr>\n",
       "      <th>0</th>\n",
       "      <td>65885786</td>\n",
       "      <td>70580529</td>\n",
       "      <td>3600</td>\n",
       "      <td>3600</td>\n",
       "      <td>3600.0</td>\n",
       "      <td>36 months</td>\n",
       "      <td>6.24</td>\n",
       "      <td>109.92</td>\n",
       "      <td>A</td>\n",
       "      <td>A2</td>\n",
       "      <td>...</td>\n",
       "      <td>NaN</td>\n",
       "      <td>NaN</td>\n",
       "      <td>NaN</td>\n",
       "      <td>NaN</td>\n",
       "      <td>NaN</td>\n",
       "      <td>141300.0</td>\n",
       "      <td>NaN</td>\n",
       "      <td>NaN</td>\n",
       "      <td>NaN</td>\n",
       "      <td>2015-12-01</td>\n",
       "    </tr>\n",
       "    <tr>\n",
       "      <th>1</th>\n",
       "      <td>67105462</td>\n",
       "      <td>71906185</td>\n",
       "      <td>29000</td>\n",
       "      <td>29000</td>\n",
       "      <td>29000.0</td>\n",
       "      <td>60 months</td>\n",
       "      <td>10.64</td>\n",
       "      <td>625.34</td>\n",
       "      <td>B</td>\n",
       "      <td>B4</td>\n",
       "      <td>...</td>\n",
       "      <td>97.8</td>\n",
       "      <td>0.0</td>\n",
       "      <td>1.0</td>\n",
       "      <td>17930.0</td>\n",
       "      <td>74.1</td>\n",
       "      <td>66500.0</td>\n",
       "      <td>0.0</td>\n",
       "      <td>0.0</td>\n",
       "      <td>0.0</td>\n",
       "      <td>2015-12-01</td>\n",
       "    </tr>\n",
       "    <tr>\n",
       "      <th>2</th>\n",
       "      <td>67105380</td>\n",
       "      <td>71906102</td>\n",
       "      <td>6500</td>\n",
       "      <td>6500</td>\n",
       "      <td>6500.0</td>\n",
       "      <td>36 months</td>\n",
       "      <td>8.38</td>\n",
       "      <td>204.83</td>\n",
       "      <td>B</td>\n",
       "      <td>B1</td>\n",
       "      <td>...</td>\n",
       "      <td>71.9</td>\n",
       "      <td>0.0</td>\n",
       "      <td>3.0</td>\n",
       "      <td>4455.0</td>\n",
       "      <td>73.5</td>\n",
       "      <td>8100.0</td>\n",
       "      <td>0.0</td>\n",
       "      <td>0.0</td>\n",
       "      <td>1.0</td>\n",
       "      <td>2015-12-01</td>\n",
       "    </tr>\n",
       "    <tr>\n",
       "      <th>3</th>\n",
       "      <td>67135529</td>\n",
       "      <td>71936249</td>\n",
       "      <td>12000</td>\n",
       "      <td>12000</td>\n",
       "      <td>12000.0</td>\n",
       "      <td>36 months</td>\n",
       "      <td>8.38</td>\n",
       "      <td>378.15</td>\n",
       "      <td>B</td>\n",
       "      <td>B1</td>\n",
       "      <td>...</td>\n",
       "      <td>81.1</td>\n",
       "      <td>4.0</td>\n",
       "      <td>5.0</td>\n",
       "      <td>4693.0</td>\n",
       "      <td>80.1</td>\n",
       "      <td>21500.0</td>\n",
       "      <td>1.0</td>\n",
       "      <td>1.0</td>\n",
       "      <td>5.0</td>\n",
       "      <td>2015-12-01</td>\n",
       "    </tr>\n",
       "    <tr>\n",
       "      <th>4</th>\n",
       "      <td>67115550</td>\n",
       "      <td>71916273</td>\n",
       "      <td>20000</td>\n",
       "      <td>20000</td>\n",
       "      <td>19850.0</td>\n",
       "      <td>60 months</td>\n",
       "      <td>19.99</td>\n",
       "      <td>529.77</td>\n",
       "      <td>E</td>\n",
       "      <td>E4</td>\n",
       "      <td>...</td>\n",
       "      <td>NaN</td>\n",
       "      <td>4.0</td>\n",
       "      <td>4.0</td>\n",
       "      <td>4957.0</td>\n",
       "      <td>51.2</td>\n",
       "      <td>43800.0</td>\n",
       "      <td>0.0</td>\n",
       "      <td>0.0</td>\n",
       "      <td>5.0</td>\n",
       "      <td>2015-12-01</td>\n",
       "    </tr>\n",
       "  </tbody>\n",
       "</table>\n",
       "<p>5 rows × 75 columns</p>\n",
       "</div>"
      ],
      "text/plain": [
       "         id  member_id  loan_amnt  funded_amnt  funded_amnt_inv        term  \\\n",
       "0  65885786   70580529       3600         3600           3600.0   36 months   \n",
       "1  67105462   71906185      29000        29000          29000.0   60 months   \n",
       "2  67105380   71906102       6500         6500           6500.0   36 months   \n",
       "3  67135529   71936249      12000        12000          12000.0   36 months   \n",
       "4  67115550   71916273      20000        20000          19850.0   60 months   \n",
       "\n",
       "   int_rate  installment grade sub_grade     ...     il_util open_rv_12m  \\\n",
       "0      6.24       109.92     A        A2     ...         NaN         NaN   \n",
       "1     10.64       625.34     B        B4     ...        97.8         0.0   \n",
       "2      8.38       204.83     B        B1     ...        71.9         0.0   \n",
       "3      8.38       378.15     B        B1     ...        81.1         4.0   \n",
       "4     19.99       529.77     E        E4     ...         NaN         4.0   \n",
       "\n",
       "  open_rv_24m  max_bal_bc all_util total_rev_hi_lim inq_fi total_cu_tl  \\\n",
       "0         NaN         NaN      NaN         141300.0    NaN         NaN   \n",
       "1         1.0     17930.0     74.1          66500.0    0.0         0.0   \n",
       "2         3.0      4455.0     73.5           8100.0    0.0         0.0   \n",
       "3         5.0      4693.0     80.1          21500.0    1.0         1.0   \n",
       "4         4.0      4957.0     51.2          43800.0    0.0         0.0   \n",
       "\n",
       "  inq_last_12m   loan_date  \n",
       "0          NaN  2015-12-01  \n",
       "1          0.0  2015-12-01  \n",
       "2          1.0  2015-12-01  \n",
       "3          5.0  2015-12-01  \n",
       "4          5.0  2015-12-01  \n",
       "\n",
       "[5 rows x 75 columns]"
      ]
     },
     "execution_count": 26,
     "metadata": {},
     "output_type": "execute_result"
    }
   ],
   "source": [
    "#Read in test data\n",
    "loan_test=pd.read_csv('loan_test.csv')\n",
    "loan_test.head()"
   ]
  },
  {
   "cell_type": "code",
   "execution_count": 32,
   "metadata": {
    "collapsed": false
   },
   "outputs": [
    {
     "name": "stdout",
     "output_type": "stream",
     "text": [
      "mths_since_last_delinq done\n",
      "revol_util done\n",
      "emp_length_num done\n"
     ]
    },
    {
     "data": {
      "text/plain": [
       "loan_amnt                     0.0\n",
       "home_ownership                0.0\n",
       "verification_status           0.0\n",
       "purpose                       0.0\n",
       "dti                           0.0\n",
       "delinq_2yrs                   0.0\n",
       "inq_last_6mths                0.0\n",
       "mths_since_last_delinq        0.0\n",
       "open_acc                      0.0\n",
       "pub_rec                       0.0\n",
       "revol_bal                     0.0\n",
       "revol_util                    0.0\n",
       "total_acc                     0.0\n",
       "next_pymnt_d                  0.0\n",
       "collections_12_mths_ex_med    0.0\n",
       "application_type              0.0\n",
       "acc_now_delinq                0.0\n",
       "tot_coll_amt                  0.0\n",
       "tot_cur_bal                   0.0\n",
       "total_rev_hi_lim              0.0\n",
       "emp_length_num                0.0\n",
       "credit_age                    0.0\n",
       "log_annual_inc                0.0\n",
       "revol_inc_ratio               0.0\n",
       "loan_status                   0.0\n",
       "dtype: float64"
      ]
     },
     "execution_count": 32,
     "metadata": {},
     "output_type": "execute_result"
    }
   ],
   "source": [
    "#Clean loan_data\n",
    "test_clean=clean_data(loan_test)\n",
    "getPctMissing(test_clean)"
   ]
  },
  {
   "cell_type": "code",
   "execution_count": 37,
   "metadata": {
    "collapsed": false
   },
   "outputs": [
    {
     "name": "stderr",
     "output_type": "stream",
     "text": [
      "/Users/ChristyL/anaconda2/lib/python2.7/site-packages/ipykernel/__main__.py:10: SettingWithCopyWarning: \n",
      "A value is trying to be set on a copy of a slice from a DataFrame.\n",
      "Try using .loc[row_indexer,col_indexer] = value instead\n",
      "\n",
      "See the caveats in the documentation: http://pandas.pydata.org/pandas-docs/stable/indexing.html#indexing-view-versus-copy\n"
     ]
    }
   ],
   "source": [
    "#drop variables that didn't make missing cut\n",
    "test_final=test_clean[train_clean.columns]\n",
    "test_final.shape\n",
    "\n",
    "#Converting credit age to float\n",
    "to_float = ['credit_age']\n",
    "\n",
    "# Converted columns to floating point\n",
    "for feature_name in to_float:\n",
    "    test_final[feature_name] = test_final[feature_name].astype(float)"
   ]
  },
  {
   "cell_type": "code",
   "execution_count": 39,
   "metadata": {
    "collapsed": false
   },
   "outputs": [
    {
     "name": "stdout",
     "output_type": "stream",
     "text": [
      "[False  True  True  True False False False False False False False False\n",
      " False  True False False False False False False False False  True]\n",
      "x shape (20530, 38)\n",
      "y shape (20530,)\n"
     ]
    }
   ],
   "source": [
    "#One hot encoding\n",
    "(x,y)=one_hot(test_final)"
   ]
  },
  {
   "cell_type": "code",
   "execution_count": 255,
   "metadata": {
    "collapsed": false
   },
   "outputs": [
    {
     "name": "stdout",
     "output_type": "stream",
     "text": [
      "total accuracy: 0.576668290307\n",
      "accuracy on defaulters: 0.671269628344\n",
      "accuracy on fully paid: 0.424080437826\n"
     ]
    }
   ],
   "source": [
    "#Running final model!\n",
    "final_logit=LogisticRegression(class_weight='balanced',penalty='l1',C=best_C)\n",
    "final_logit.fit(x,y)\n",
    "\n",
    "print 'total accuracy:', final_logit.score(x,y)\n",
    "print 'accuracy on defaulters:', final_logit.score(x[y==0], y[y==0])\n",
    "print 'accuracy on fully paid:', final_logit.score(x[y==1], y[y==1])\n"
   ]
  }
 ],
 "metadata": {
  "anaconda-cloud": {},
  "kernelspec": {
   "display_name": "Python [Root]",
   "language": "python",
   "name": "Python [Root]"
  },
  "language_info": {
   "codemirror_mode": {
    "name": "ipython",
    "version": 2
   },
   "file_extension": ".py",
   "mimetype": "text/x-python",
   "name": "python",
   "nbconvert_exporter": "python",
   "pygments_lexer": "ipython2",
   "version": "2.7.12"
  }
 },
 "nbformat": 4,
 "nbformat_minor": 0
}
